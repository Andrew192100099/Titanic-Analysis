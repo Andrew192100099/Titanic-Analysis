{
 "cells": [
  {
   "cell_type": "markdown",
   "id": "c6517b2e-0866-45b1-af66-19571f93e2be",
   "metadata": {},
   "source": [
    "<span style=\"font-size:35px; font-weight:bold\">(1) Packages</span>"
   ]
  },
  {
   "cell_type": "code",
   "execution_count": 20,
   "id": "297e006f-fa87-4cab-b213-c625e6246d21",
   "metadata": {},
   "outputs": [],
   "source": [
    "import pandas as pd\n",
    "import seaborn as sns\n",
    "import matplotlib.pyplot as plt\n"
   ]
  },
  {
   "cell_type": "markdown",
   "id": "3a9a578b-6688-4db2-abbe-6a52be2bfeeb",
   "metadata": {},
   "source": [
    "<span style=\"font-size:55px; font-weight:bold\">______________________________________________</span>"
   ]
  },
  {
   "cell_type": "markdown",
   "id": "83dc82a5-9bc8-4a8e-bfbf-749d95f02d8f",
   "metadata": {},
   "source": [
    "<span style=\"font-size:35px; font-weight:bold\">(2) Data Preparation</span>"
   ]
  },
  {
   "cell_type": "code",
   "execution_count": 24,
   "id": "f01bccc2-57c5-4e29-ab76-076c1d08e1a6",
   "metadata": {},
   "outputs": [
    {
     "data": {
      "text/html": [
       "<div>\n",
       "<style scoped>\n",
       "    .dataframe tbody tr th:only-of-type {\n",
       "        vertical-align: middle;\n",
       "    }\n",
       "\n",
       "    .dataframe tbody tr th {\n",
       "        vertical-align: top;\n",
       "    }\n",
       "\n",
       "    .dataframe thead th {\n",
       "        text-align: right;\n",
       "    }\n",
       "</style>\n",
       "<table border=\"1\" class=\"dataframe\">\n",
       "  <thead>\n",
       "    <tr style=\"text-align: right;\">\n",
       "      <th></th>\n",
       "      <th>PassengerId</th>\n",
       "      <th>Survived</th>\n",
       "      <th>Pclass</th>\n",
       "      <th>Name</th>\n",
       "      <th>Sex</th>\n",
       "      <th>Age</th>\n",
       "      <th>SibSp</th>\n",
       "      <th>Parch</th>\n",
       "      <th>Ticket</th>\n",
       "      <th>Fare</th>\n",
       "      <th>Cabin</th>\n",
       "      <th>Embarked</th>\n",
       "    </tr>\n",
       "  </thead>\n",
       "  <tbody>\n",
       "    <tr>\n",
       "      <th>0</th>\n",
       "      <td>1</td>\n",
       "      <td>0</td>\n",
       "      <td>3</td>\n",
       "      <td>Braund, Mr. Owen Harris</td>\n",
       "      <td>male</td>\n",
       "      <td>22.0</td>\n",
       "      <td>1</td>\n",
       "      <td>0</td>\n",
       "      <td>A/5 21171</td>\n",
       "      <td>7.2500</td>\n",
       "      <td>NaN</td>\n",
       "      <td>S</td>\n",
       "    </tr>\n",
       "    <tr>\n",
       "      <th>1</th>\n",
       "      <td>2</td>\n",
       "      <td>1</td>\n",
       "      <td>1</td>\n",
       "      <td>Cumings, Mrs. John Bradley (Florence Briggs Th...</td>\n",
       "      <td>female</td>\n",
       "      <td>38.0</td>\n",
       "      <td>1</td>\n",
       "      <td>0</td>\n",
       "      <td>PC 17599</td>\n",
       "      <td>71.2833</td>\n",
       "      <td>C85</td>\n",
       "      <td>C</td>\n",
       "    </tr>\n",
       "    <tr>\n",
       "      <th>2</th>\n",
       "      <td>3</td>\n",
       "      <td>1</td>\n",
       "      <td>3</td>\n",
       "      <td>Heikkinen, Miss. Laina</td>\n",
       "      <td>female</td>\n",
       "      <td>26.0</td>\n",
       "      <td>0</td>\n",
       "      <td>0</td>\n",
       "      <td>STON/O2. 3101282</td>\n",
       "      <td>7.9250</td>\n",
       "      <td>NaN</td>\n",
       "      <td>S</td>\n",
       "    </tr>\n",
       "    <tr>\n",
       "      <th>3</th>\n",
       "      <td>4</td>\n",
       "      <td>1</td>\n",
       "      <td>1</td>\n",
       "      <td>Futrelle, Mrs. Jacques Heath (Lily May Peel)</td>\n",
       "      <td>female</td>\n",
       "      <td>35.0</td>\n",
       "      <td>1</td>\n",
       "      <td>0</td>\n",
       "      <td>113803</td>\n",
       "      <td>53.1000</td>\n",
       "      <td>C123</td>\n",
       "      <td>S</td>\n",
       "    </tr>\n",
       "    <tr>\n",
       "      <th>4</th>\n",
       "      <td>5</td>\n",
       "      <td>0</td>\n",
       "      <td>3</td>\n",
       "      <td>Allen, Mr. William Henry</td>\n",
       "      <td>male</td>\n",
       "      <td>35.0</td>\n",
       "      <td>0</td>\n",
       "      <td>0</td>\n",
       "      <td>373450</td>\n",
       "      <td>8.0500</td>\n",
       "      <td>NaN</td>\n",
       "      <td>S</td>\n",
       "    </tr>\n",
       "    <tr>\n",
       "      <th>...</th>\n",
       "      <td>...</td>\n",
       "      <td>...</td>\n",
       "      <td>...</td>\n",
       "      <td>...</td>\n",
       "      <td>...</td>\n",
       "      <td>...</td>\n",
       "      <td>...</td>\n",
       "      <td>...</td>\n",
       "      <td>...</td>\n",
       "      <td>...</td>\n",
       "      <td>...</td>\n",
       "      <td>...</td>\n",
       "    </tr>\n",
       "    <tr>\n",
       "      <th>886</th>\n",
       "      <td>887</td>\n",
       "      <td>0</td>\n",
       "      <td>2</td>\n",
       "      <td>Montvila, Rev. Juozas</td>\n",
       "      <td>male</td>\n",
       "      <td>27.0</td>\n",
       "      <td>0</td>\n",
       "      <td>0</td>\n",
       "      <td>211536</td>\n",
       "      <td>13.0000</td>\n",
       "      <td>NaN</td>\n",
       "      <td>S</td>\n",
       "    </tr>\n",
       "    <tr>\n",
       "      <th>887</th>\n",
       "      <td>888</td>\n",
       "      <td>1</td>\n",
       "      <td>1</td>\n",
       "      <td>Graham, Miss. Margaret Edith</td>\n",
       "      <td>female</td>\n",
       "      <td>19.0</td>\n",
       "      <td>0</td>\n",
       "      <td>0</td>\n",
       "      <td>112053</td>\n",
       "      <td>30.0000</td>\n",
       "      <td>B42</td>\n",
       "      <td>S</td>\n",
       "    </tr>\n",
       "    <tr>\n",
       "      <th>888</th>\n",
       "      <td>889</td>\n",
       "      <td>0</td>\n",
       "      <td>3</td>\n",
       "      <td>Johnston, Miss. Catherine Helen \"Carrie\"</td>\n",
       "      <td>female</td>\n",
       "      <td>NaN</td>\n",
       "      <td>1</td>\n",
       "      <td>2</td>\n",
       "      <td>W./C. 6607</td>\n",
       "      <td>23.4500</td>\n",
       "      <td>NaN</td>\n",
       "      <td>S</td>\n",
       "    </tr>\n",
       "    <tr>\n",
       "      <th>889</th>\n",
       "      <td>890</td>\n",
       "      <td>1</td>\n",
       "      <td>1</td>\n",
       "      <td>Behr, Mr. Karl Howell</td>\n",
       "      <td>male</td>\n",
       "      <td>26.0</td>\n",
       "      <td>0</td>\n",
       "      <td>0</td>\n",
       "      <td>111369</td>\n",
       "      <td>30.0000</td>\n",
       "      <td>C148</td>\n",
       "      <td>C</td>\n",
       "    </tr>\n",
       "    <tr>\n",
       "      <th>890</th>\n",
       "      <td>891</td>\n",
       "      <td>0</td>\n",
       "      <td>3</td>\n",
       "      <td>Dooley, Mr. Patrick</td>\n",
       "      <td>male</td>\n",
       "      <td>32.0</td>\n",
       "      <td>0</td>\n",
       "      <td>0</td>\n",
       "      <td>370376</td>\n",
       "      <td>7.7500</td>\n",
       "      <td>NaN</td>\n",
       "      <td>Q</td>\n",
       "    </tr>\n",
       "  </tbody>\n",
       "</table>\n",
       "<p>891 rows × 12 columns</p>\n",
       "</div>"
      ],
      "text/plain": [
       "     PassengerId  Survived  Pclass  \\\n",
       "0              1         0       3   \n",
       "1              2         1       1   \n",
       "2              3         1       3   \n",
       "3              4         1       1   \n",
       "4              5         0       3   \n",
       "..           ...       ...     ...   \n",
       "886          887         0       2   \n",
       "887          888         1       1   \n",
       "888          889         0       3   \n",
       "889          890         1       1   \n",
       "890          891         0       3   \n",
       "\n",
       "                                                  Name     Sex   Age  SibSp  \\\n",
       "0                              Braund, Mr. Owen Harris    male  22.0      1   \n",
       "1    Cumings, Mrs. John Bradley (Florence Briggs Th...  female  38.0      1   \n",
       "2                               Heikkinen, Miss. Laina  female  26.0      0   \n",
       "3         Futrelle, Mrs. Jacques Heath (Lily May Peel)  female  35.0      1   \n",
       "4                             Allen, Mr. William Henry    male  35.0      0   \n",
       "..                                                 ...     ...   ...    ...   \n",
       "886                              Montvila, Rev. Juozas    male  27.0      0   \n",
       "887                       Graham, Miss. Margaret Edith  female  19.0      0   \n",
       "888           Johnston, Miss. Catherine Helen \"Carrie\"  female   NaN      1   \n",
       "889                              Behr, Mr. Karl Howell    male  26.0      0   \n",
       "890                                Dooley, Mr. Patrick    male  32.0      0   \n",
       "\n",
       "     Parch            Ticket     Fare Cabin Embarked  \n",
       "0        0         A/5 21171   7.2500   NaN        S  \n",
       "1        0          PC 17599  71.2833   C85        C  \n",
       "2        0  STON/O2. 3101282   7.9250   NaN        S  \n",
       "3        0            113803  53.1000  C123        S  \n",
       "4        0            373450   8.0500   NaN        S  \n",
       "..     ...               ...      ...   ...      ...  \n",
       "886      0            211536  13.0000   NaN        S  \n",
       "887      0            112053  30.0000   B42        S  \n",
       "888      2        W./C. 6607  23.4500   NaN        S  \n",
       "889      0            111369  30.0000  C148        C  \n",
       "890      0            370376   7.7500   NaN        Q  \n",
       "\n",
       "[891 rows x 12 columns]"
      ]
     },
     "execution_count": 24,
     "metadata": {},
     "output_type": "execute_result"
    }
   ],
   "source": [
    "# Load the train data\n",
    "df = pd.read_csv(\"train.csv\")\n",
    "\n",
    "pd.reset_option('display.max_rows')\n",
    "pd.reset_option('display.max_columns')\n",
    "\n",
    "df"
   ]
  },
  {
   "cell_type": "code",
   "execution_count": 26,
   "id": "b24f036b-8edc-4285-aade-c458765a918d",
   "metadata": {},
   "outputs": [
    {
     "name": "stdout",
     "output_type": "stream",
     "text": [
      "<class 'pandas.core.frame.DataFrame'>\n",
      "RangeIndex: 891 entries, 0 to 890\n",
      "Data columns (total 12 columns):\n",
      " #   Column       Non-Null Count  Dtype  \n",
      "---  ------       --------------  -----  \n",
      " 0   PassengerId  891 non-null    int64  \n",
      " 1   Survived     891 non-null    int64  \n",
      " 2   Pclass       891 non-null    int64  \n",
      " 3   Name         891 non-null    object \n",
      " 4   Sex          891 non-null    object \n",
      " 5   Age          714 non-null    float64\n",
      " 6   SibSp        891 non-null    int64  \n",
      " 7   Parch        891 non-null    int64  \n",
      " 8   Ticket       891 non-null    object \n",
      " 9   Fare         891 non-null    float64\n",
      " 10  Cabin        204 non-null    object \n",
      " 11  Embarked     889 non-null    object \n",
      "dtypes: float64(2), int64(5), object(5)\n",
      "memory usage: 83.7+ KB\n"
     ]
    }
   ],
   "source": [
    "# Basic info: column types, non-null values\n",
    "df.info()\n"
   ]
  },
  {
   "cell_type": "markdown",
   "id": "f4e9e418-ce9a-459e-926d-c0b9d30b0615",
   "metadata": {},
   "source": [
    "<span style=\"font-size:55px; font-weight:bold\">______________________________________________</span>"
   ]
  },
  {
   "cell_type": "markdown",
   "id": "e7b09880-a062-4c0c-9e48-afbd1467dd83",
   "metadata": {},
   "source": [
    "<span style=\"font-size:35px; font-weight:bold\">(3) Missing Valuess ??</span>"
   ]
  },
  {
   "cell_type": "code",
   "execution_count": 43,
   "id": "4af12b86-5cc9-4405-a180-5c68e333bd0a",
   "metadata": {},
   "outputs": [
    {
     "data": {
      "text/plain": [
       "True"
      ]
     },
     "execution_count": 43,
     "metadata": {},
     "output_type": "execute_result"
    }
   ],
   "source": [
    "# dataset doesn't have missing values\n",
    "df.isnull().values.any()"
   ]
  },
  {
   "cell_type": "code",
   "execution_count": 30,
   "id": "95aaa501-1be2-440a-ab92-1ba025d2a94b",
   "metadata": {},
   "outputs": [
    {
     "name": "stdout",
     "output_type": "stream",
     "text": [
      "\n",
      "Missing Values (True = Missing):\n",
      "     PassengerId  Survived  Pclass   Name    Sex    Age  SibSp  Parch  Ticket  \\\n",
      "0          False     False   False  False  False  False  False  False   False   \n",
      "1          False     False   False  False  False  False  False  False   False   \n",
      "2          False     False   False  False  False  False  False  False   False   \n",
      "3          False     False   False  False  False  False  False  False   False   \n",
      "4          False     False   False  False  False  False  False  False   False   \n",
      "..           ...       ...     ...    ...    ...    ...    ...    ...     ...   \n",
      "886        False     False   False  False  False  False  False  False   False   \n",
      "887        False     False   False  False  False  False  False  False   False   \n",
      "888        False     False   False  False  False   True  False  False   False   \n",
      "889        False     False   False  False  False  False  False  False   False   \n",
      "890        False     False   False  False  False  False  False  False   False   \n",
      "\n",
      "      Fare  Cabin  Embarked  \n",
      "0    False   True     False  \n",
      "1    False  False     False  \n",
      "2    False   True     False  \n",
      "3    False  False     False  \n",
      "4    False   True     False  \n",
      "..     ...    ...       ...  \n",
      "886  False   True     False  \n",
      "887  False  False     False  \n",
      "888  False   True     False  \n",
      "889  False  False     False  \n",
      "890  False   True     False  \n",
      "\n",
      "[891 rows x 12 columns]\n"
     ]
    }
   ],
   "source": [
    "print(\"\\nMissing Values (True = Missing):\")\n",
    "print(df.isnull())"
   ]
  },
  {
   "cell_type": "code",
   "execution_count": 36,
   "id": "26820bf7-4f61-4d1a-9b3f-4f8f2e90bd79",
   "metadata": {},
   "outputs": [
    {
     "data": {
      "text/html": [
       "<div>\n",
       "<style scoped>\n",
       "    .dataframe tbody tr th:only-of-type {\n",
       "        vertical-align: middle;\n",
       "    }\n",
       "\n",
       "    .dataframe tbody tr th {\n",
       "        vertical-align: top;\n",
       "    }\n",
       "\n",
       "    .dataframe thead th {\n",
       "        text-align: right;\n",
       "    }\n",
       "</style>\n",
       "<table border=\"1\" class=\"dataframe\">\n",
       "  <thead>\n",
       "    <tr style=\"text-align: right;\">\n",
       "      <th></th>\n",
       "      <th>PassengerId</th>\n",
       "      <th>Survived</th>\n",
       "      <th>Pclass</th>\n",
       "      <th>Name</th>\n",
       "      <th>Sex</th>\n",
       "      <th>Age</th>\n",
       "      <th>SibSp</th>\n",
       "      <th>Parch</th>\n",
       "      <th>Ticket</th>\n",
       "      <th>Fare</th>\n",
       "      <th>Cabin</th>\n",
       "      <th>Embarked</th>\n",
       "    </tr>\n",
       "  </thead>\n",
       "  <tbody>\n",
       "    <tr>\n",
       "      <th>5</th>\n",
       "      <td>6</td>\n",
       "      <td>0</td>\n",
       "      <td>3</td>\n",
       "      <td>Moran, Mr. James</td>\n",
       "      <td>male</td>\n",
       "      <td>NaN</td>\n",
       "      <td>0</td>\n",
       "      <td>0</td>\n",
       "      <td>330877</td>\n",
       "      <td>8.4583</td>\n",
       "      <td>NaN</td>\n",
       "      <td>Q</td>\n",
       "    </tr>\n",
       "    <tr>\n",
       "      <th>17</th>\n",
       "      <td>18</td>\n",
       "      <td>1</td>\n",
       "      <td>2</td>\n",
       "      <td>Williams, Mr. Charles Eugene</td>\n",
       "      <td>male</td>\n",
       "      <td>NaN</td>\n",
       "      <td>0</td>\n",
       "      <td>0</td>\n",
       "      <td>244373</td>\n",
       "      <td>13.0000</td>\n",
       "      <td>NaN</td>\n",
       "      <td>S</td>\n",
       "    </tr>\n",
       "    <tr>\n",
       "      <th>19</th>\n",
       "      <td>20</td>\n",
       "      <td>1</td>\n",
       "      <td>3</td>\n",
       "      <td>Masselmani, Mrs. Fatima</td>\n",
       "      <td>female</td>\n",
       "      <td>NaN</td>\n",
       "      <td>0</td>\n",
       "      <td>0</td>\n",
       "      <td>2649</td>\n",
       "      <td>7.2250</td>\n",
       "      <td>NaN</td>\n",
       "      <td>C</td>\n",
       "    </tr>\n",
       "    <tr>\n",
       "      <th>26</th>\n",
       "      <td>27</td>\n",
       "      <td>0</td>\n",
       "      <td>3</td>\n",
       "      <td>Emir, Mr. Farred Chehab</td>\n",
       "      <td>male</td>\n",
       "      <td>NaN</td>\n",
       "      <td>0</td>\n",
       "      <td>0</td>\n",
       "      <td>2631</td>\n",
       "      <td>7.2250</td>\n",
       "      <td>NaN</td>\n",
       "      <td>C</td>\n",
       "    </tr>\n",
       "    <tr>\n",
       "      <th>28</th>\n",
       "      <td>29</td>\n",
       "      <td>1</td>\n",
       "      <td>3</td>\n",
       "      <td>O'Dwyer, Miss. Ellen \"Nellie\"</td>\n",
       "      <td>female</td>\n",
       "      <td>NaN</td>\n",
       "      <td>0</td>\n",
       "      <td>0</td>\n",
       "      <td>330959</td>\n",
       "      <td>7.8792</td>\n",
       "      <td>NaN</td>\n",
       "      <td>Q</td>\n",
       "    </tr>\n",
       "    <tr>\n",
       "      <th>...</th>\n",
       "      <td>...</td>\n",
       "      <td>...</td>\n",
       "      <td>...</td>\n",
       "      <td>...</td>\n",
       "      <td>...</td>\n",
       "      <td>...</td>\n",
       "      <td>...</td>\n",
       "      <td>...</td>\n",
       "      <td>...</td>\n",
       "      <td>...</td>\n",
       "      <td>...</td>\n",
       "      <td>...</td>\n",
       "    </tr>\n",
       "    <tr>\n",
       "      <th>859</th>\n",
       "      <td>860</td>\n",
       "      <td>0</td>\n",
       "      <td>3</td>\n",
       "      <td>Razi, Mr. Raihed</td>\n",
       "      <td>male</td>\n",
       "      <td>NaN</td>\n",
       "      <td>0</td>\n",
       "      <td>0</td>\n",
       "      <td>2629</td>\n",
       "      <td>7.2292</td>\n",
       "      <td>NaN</td>\n",
       "      <td>C</td>\n",
       "    </tr>\n",
       "    <tr>\n",
       "      <th>863</th>\n",
       "      <td>864</td>\n",
       "      <td>0</td>\n",
       "      <td>3</td>\n",
       "      <td>Sage, Miss. Dorothy Edith \"Dolly\"</td>\n",
       "      <td>female</td>\n",
       "      <td>NaN</td>\n",
       "      <td>8</td>\n",
       "      <td>2</td>\n",
       "      <td>CA. 2343</td>\n",
       "      <td>69.5500</td>\n",
       "      <td>NaN</td>\n",
       "      <td>S</td>\n",
       "    </tr>\n",
       "    <tr>\n",
       "      <th>868</th>\n",
       "      <td>869</td>\n",
       "      <td>0</td>\n",
       "      <td>3</td>\n",
       "      <td>van Melkebeke, Mr. Philemon</td>\n",
       "      <td>male</td>\n",
       "      <td>NaN</td>\n",
       "      <td>0</td>\n",
       "      <td>0</td>\n",
       "      <td>345777</td>\n",
       "      <td>9.5000</td>\n",
       "      <td>NaN</td>\n",
       "      <td>S</td>\n",
       "    </tr>\n",
       "    <tr>\n",
       "      <th>878</th>\n",
       "      <td>879</td>\n",
       "      <td>0</td>\n",
       "      <td>3</td>\n",
       "      <td>Laleff, Mr. Kristo</td>\n",
       "      <td>male</td>\n",
       "      <td>NaN</td>\n",
       "      <td>0</td>\n",
       "      <td>0</td>\n",
       "      <td>349217</td>\n",
       "      <td>7.8958</td>\n",
       "      <td>NaN</td>\n",
       "      <td>S</td>\n",
       "    </tr>\n",
       "    <tr>\n",
       "      <th>888</th>\n",
       "      <td>889</td>\n",
       "      <td>0</td>\n",
       "      <td>3</td>\n",
       "      <td>Johnston, Miss. Catherine Helen \"Carrie\"</td>\n",
       "      <td>female</td>\n",
       "      <td>NaN</td>\n",
       "      <td>1</td>\n",
       "      <td>2</td>\n",
       "      <td>W./C. 6607</td>\n",
       "      <td>23.4500</td>\n",
       "      <td>NaN</td>\n",
       "      <td>S</td>\n",
       "    </tr>\n",
       "  </tbody>\n",
       "</table>\n",
       "<p>177 rows × 12 columns</p>\n",
       "</div>"
      ],
      "text/plain": [
       "     PassengerId  Survived  Pclass                                      Name  \\\n",
       "5              6         0       3                          Moran, Mr. James   \n",
       "17            18         1       2              Williams, Mr. Charles Eugene   \n",
       "19            20         1       3                   Masselmani, Mrs. Fatima   \n",
       "26            27         0       3                   Emir, Mr. Farred Chehab   \n",
       "28            29         1       3             O'Dwyer, Miss. Ellen \"Nellie\"   \n",
       "..           ...       ...     ...                                       ...   \n",
       "859          860         0       3                          Razi, Mr. Raihed   \n",
       "863          864         0       3         Sage, Miss. Dorothy Edith \"Dolly\"   \n",
       "868          869         0       3               van Melkebeke, Mr. Philemon   \n",
       "878          879         0       3                        Laleff, Mr. Kristo   \n",
       "888          889         0       3  Johnston, Miss. Catherine Helen \"Carrie\"   \n",
       "\n",
       "        Sex  Age  SibSp  Parch      Ticket     Fare Cabin Embarked  \n",
       "5      male  NaN      0      0      330877   8.4583   NaN        Q  \n",
       "17     male  NaN      0      0      244373  13.0000   NaN        S  \n",
       "19   female  NaN      0      0        2649   7.2250   NaN        C  \n",
       "26     male  NaN      0      0        2631   7.2250   NaN        C  \n",
       "28   female  NaN      0      0      330959   7.8792   NaN        Q  \n",
       "..      ...  ...    ...    ...         ...      ...   ...      ...  \n",
       "859    male  NaN      0      0        2629   7.2292   NaN        C  \n",
       "863  female  NaN      8      2    CA. 2343  69.5500   NaN        S  \n",
       "868    male  NaN      0      0      345777   9.5000   NaN        S  \n",
       "878    male  NaN      0      0      349217   7.8958   NaN        S  \n",
       "888  female  NaN      1      2  W./C. 6607  23.4500   NaN        S  \n",
       "\n",
       "[177 rows x 12 columns]"
      ]
     },
     "execution_count": 36,
     "metadata": {},
     "output_type": "execute_result"
    }
   ],
   "source": [
    "df[df['Age'].isna()]"
   ]
  },
  {
   "cell_type": "code",
   "execution_count": 544,
   "id": "48de94fc-20ab-414a-9f00-3ac57f0cd683",
   "metadata": {},
   "outputs": [
    {
     "data": {
      "text/plain": [
       "PassengerId      0\n",
       "Survived         0\n",
       "Pclass           0\n",
       "Name             0\n",
       "Sex              0\n",
       "Age            177\n",
       "SibSp            0\n",
       "Parch            0\n",
       "Ticket           0\n",
       "Fare             0\n",
       "Cabin          687\n",
       "Embarked         2\n",
       "dtype: int64"
      ]
     },
     "execution_count": 544,
     "metadata": {},
     "output_type": "execute_result"
    }
   ],
   "source": [
    "# Total missing values per column\n",
    "df.isnull().sum()"
   ]
  },
  {
   "cell_type": "code",
   "execution_count": 545,
   "id": "495d44a1-c861-44e5-8d5a-d5a5b0443e21",
   "metadata": {},
   "outputs": [
    {
     "name": "stdout",
     "output_type": "stream",
     "text": [
      "\n",
      "Total Missing Values in the Dataset:\n",
      "866\n"
     ]
    }
   ],
   "source": [
    "print(\"\\nTotal Missing Values in the Dataset:\")\n",
    "print(df.isnull().sum().sum())"
   ]
  },
  {
   "cell_type": "markdown",
   "id": "b506016b-0ccc-4451-97c2-83f538b736c7",
   "metadata": {},
   "source": [
    "<span style=\"font-size:55px; font-weight:bold\">______________________________________________</span>"
   ]
  },
  {
   "cell_type": "markdown",
   "id": "115c52d2-5902-410b-9a5b-e141c025b4a7",
   "metadata": {},
   "source": [
    "<span style=\"font-size:35px; font-weight:bold\">(4) Summary Statistics</span>"
   ]
  },
  {
   "cell_type": "markdown",
   "id": "8720d3be-b808-4174-a439-d9315aed8852",
   "metadata": {},
   "source": [
    "## Datatypes"
   ]
  },
  {
   "cell_type": "code",
   "execution_count": 550,
   "id": "19217c6f-0ecf-45cc-9de0-83915c644419",
   "metadata": {},
   "outputs": [
    {
     "data": {
      "text/plain": [
       "PassengerId      int64\n",
       "Survived         int64\n",
       "Pclass           int64\n",
       "Name            object\n",
       "Sex             object\n",
       "Age            float64\n",
       "SibSp            int64\n",
       "Parch            int64\n",
       "Ticket          object\n",
       "Fare           float64\n",
       "Cabin           object\n",
       "Embarked        object\n",
       "dtype: object"
      ]
     },
     "execution_count": 550,
     "metadata": {},
     "output_type": "execute_result"
    }
   ],
   "source": [
    "df.dtypes"
   ]
  },
  {
   "cell_type": "markdown",
   "id": "7e62ed1b-63ec-4825-98d1-f6e80146c195",
   "metadata": {},
   "source": [
    "## convert types"
   ]
  },
  {
   "cell_type": "code",
   "execution_count": 552,
   "id": "1bc5054b-ebeb-4768-90dd-5ea5035989b0",
   "metadata": {},
   "outputs": [
    {
     "name": "stdout",
     "output_type": "stream",
     "text": [
      "PassengerId             int32\n",
      "Survived             category\n",
      "Pclass               category\n",
      "Name           string[python]\n",
      "Sex                  category\n",
      "Age                   float32\n",
      "SibSp                    int8\n",
      "Parch                    int8\n",
      "Ticket         string[python]\n",
      "Fare                  float32\n",
      "Cabin          string[python]\n",
      "Embarked             category\n",
      "dtype: object\n"
     ]
    }
   ],
   "source": [
    "df['Survived'] = df['Survived'].astype('category')     # 0 or 1 → category\n",
    "df['Pclass'] = df['Pclass'].astype('category')         # 1, 2, 3 → category\n",
    "df['Sex'] = df['Sex'].astype('category')               # male/female → category\n",
    "df['Embarked'] = df['Embarked'].astype('category')     # C/Q/S → category\n",
    "df['SibSp'] = df['SibSp'].astype('int8')               # small integers\n",
    "df['Parch'] = df['Parch'].astype('int8')               # small integers\n",
    "df['PassengerId'] = df['PassengerId'].astype('int32')  # just an ID\n",
    "df['Age'] = df['Age'].astype('float32')                # float but less memory\n",
    "df['Fare'] = df['Fare'].astype('float32')              # float but less memory\n",
    "df['Name'] = df['Name'].astype('string')               # text\n",
    "df['Ticket'] = df['Ticket'].astype('string')           # text\n",
    "df['Cabin'] = df['Cabin'].astype('string')             # text, many nulls\n",
    "\n",
    "\n",
    "print(df.dtypes)"
   ]
  },
  {
   "cell_type": "markdown",
   "id": "9852f67e-26fa-4f36-b752-b35693f864ef",
   "metadata": {},
   "source": [
    "<span style=\"font-size:55px; font-weight:bold\">______________________________________________</span>"
   ]
  },
  {
   "cell_type": "markdown",
   "id": "251d23f8-3aa4-4302-8cca-e96e7194f13a",
   "metadata": {},
   "source": [
    "<span style=\"font-size:35px; font-weight:bold\">(5) Data Cleaning: Handle Missing Data</span>"
   ]
  },
  {
   "cell_type": "markdown",
   "id": "358cdabf-9226-4624-9ec6-d31694b7e4bc",
   "metadata": {},
   "source": [
    "## Fill missing Age with median"
   ]
  },
  {
   "cell_type": "code",
   "execution_count": 556,
   "id": "06505a0f-dd0c-4597-b306-c6212ca0b7b0",
   "metadata": {},
   "outputs": [],
   "source": [
    "df['Age'] = df['Age'].fillna(df['Age'].median())"
   ]
  },
  {
   "cell_type": "markdown",
   "id": "5de78fad-14e8-4f23-a3d6-79c6da8fb902",
   "metadata": {},
   "source": [
    "## Fill missing Embarked with mode"
   ]
  },
  {
   "cell_type": "code",
   "execution_count": 558,
   "id": "2605cbc2-64d4-4fcb-8d26-c60ea9c6b615",
   "metadata": {},
   "outputs": [],
   "source": [
    "df['Embarked'] = df['Embarked'].fillna(df['Embarked'].mode()[0])"
   ]
  },
  {
   "cell_type": "markdown",
   "id": "52d6378a-8ad2-4b13-9ecd-7e7dcd2b13a5",
   "metadata": {},
   "source": [
    "## Drop Cabin column ((too many missing))"
   ]
  },
  {
   "cell_type": "code",
   "execution_count": 560,
   "id": "b12eb5e7-c69e-4e7e-8915-5c7196233b87",
   "metadata": {},
   "outputs": [],
   "source": [
    "if 'Cabin' in df.columns:\n",
    "    df.drop(columns=['Cabin'], inplace=True)"
   ]
  },
  {
   "cell_type": "markdown",
   "id": "984e3bbc-e1dc-4854-9c1b-7c5726c17c13",
   "metadata": {},
   "source": [
    "## Cleaned Dataset"
   ]
  },
  {
   "cell_type": "code",
   "execution_count": 562,
   "id": "e4d40067-7d8b-4857-a6be-401bb1193d7e",
   "metadata": {},
   "outputs": [
    {
     "data": {
      "text/html": [
       "<div>\n",
       "<style scoped>\n",
       "    .dataframe tbody tr th:only-of-type {\n",
       "        vertical-align: middle;\n",
       "    }\n",
       "\n",
       "    .dataframe tbody tr th {\n",
       "        vertical-align: top;\n",
       "    }\n",
       "\n",
       "    .dataframe thead th {\n",
       "        text-align: right;\n",
       "    }\n",
       "</style>\n",
       "<table border=\"1\" class=\"dataframe\">\n",
       "  <thead>\n",
       "    <tr style=\"text-align: right;\">\n",
       "      <th></th>\n",
       "      <th>PassengerId</th>\n",
       "      <th>Survived</th>\n",
       "      <th>Pclass</th>\n",
       "      <th>Name</th>\n",
       "      <th>Sex</th>\n",
       "      <th>Age</th>\n",
       "      <th>SibSp</th>\n",
       "      <th>Parch</th>\n",
       "      <th>Ticket</th>\n",
       "      <th>Fare</th>\n",
       "      <th>Embarked</th>\n",
       "    </tr>\n",
       "  </thead>\n",
       "  <tbody>\n",
       "    <tr>\n",
       "      <th>0</th>\n",
       "      <td>1</td>\n",
       "      <td>0</td>\n",
       "      <td>3</td>\n",
       "      <td>Braund, Mr. Owen Harris</td>\n",
       "      <td>male</td>\n",
       "      <td>22.0</td>\n",
       "      <td>1</td>\n",
       "      <td>0</td>\n",
       "      <td>A/5 21171</td>\n",
       "      <td>7.250000</td>\n",
       "      <td>S</td>\n",
       "    </tr>\n",
       "    <tr>\n",
       "      <th>1</th>\n",
       "      <td>2</td>\n",
       "      <td>1</td>\n",
       "      <td>1</td>\n",
       "      <td>Cumings, Mrs. John Bradley (Florence Briggs Th...</td>\n",
       "      <td>female</td>\n",
       "      <td>38.0</td>\n",
       "      <td>1</td>\n",
       "      <td>0</td>\n",
       "      <td>PC 17599</td>\n",
       "      <td>71.283302</td>\n",
       "      <td>C</td>\n",
       "    </tr>\n",
       "    <tr>\n",
       "      <th>2</th>\n",
       "      <td>3</td>\n",
       "      <td>1</td>\n",
       "      <td>3</td>\n",
       "      <td>Heikkinen, Miss. Laina</td>\n",
       "      <td>female</td>\n",
       "      <td>26.0</td>\n",
       "      <td>0</td>\n",
       "      <td>0</td>\n",
       "      <td>STON/O2. 3101282</td>\n",
       "      <td>7.925000</td>\n",
       "      <td>S</td>\n",
       "    </tr>\n",
       "    <tr>\n",
       "      <th>3</th>\n",
       "      <td>4</td>\n",
       "      <td>1</td>\n",
       "      <td>1</td>\n",
       "      <td>Futrelle, Mrs. Jacques Heath (Lily May Peel)</td>\n",
       "      <td>female</td>\n",
       "      <td>35.0</td>\n",
       "      <td>1</td>\n",
       "      <td>0</td>\n",
       "      <td>113803</td>\n",
       "      <td>53.099998</td>\n",
       "      <td>S</td>\n",
       "    </tr>\n",
       "    <tr>\n",
       "      <th>4</th>\n",
       "      <td>5</td>\n",
       "      <td>0</td>\n",
       "      <td>3</td>\n",
       "      <td>Allen, Mr. William Henry</td>\n",
       "      <td>male</td>\n",
       "      <td>35.0</td>\n",
       "      <td>0</td>\n",
       "      <td>0</td>\n",
       "      <td>373450</td>\n",
       "      <td>8.050000</td>\n",
       "      <td>S</td>\n",
       "    </tr>\n",
       "    <tr>\n",
       "      <th>...</th>\n",
       "      <td>...</td>\n",
       "      <td>...</td>\n",
       "      <td>...</td>\n",
       "      <td>...</td>\n",
       "      <td>...</td>\n",
       "      <td>...</td>\n",
       "      <td>...</td>\n",
       "      <td>...</td>\n",
       "      <td>...</td>\n",
       "      <td>...</td>\n",
       "      <td>...</td>\n",
       "    </tr>\n",
       "    <tr>\n",
       "      <th>886</th>\n",
       "      <td>887</td>\n",
       "      <td>0</td>\n",
       "      <td>2</td>\n",
       "      <td>Montvila, Rev. Juozas</td>\n",
       "      <td>male</td>\n",
       "      <td>27.0</td>\n",
       "      <td>0</td>\n",
       "      <td>0</td>\n",
       "      <td>211536</td>\n",
       "      <td>13.000000</td>\n",
       "      <td>S</td>\n",
       "    </tr>\n",
       "    <tr>\n",
       "      <th>887</th>\n",
       "      <td>888</td>\n",
       "      <td>1</td>\n",
       "      <td>1</td>\n",
       "      <td>Graham, Miss. Margaret Edith</td>\n",
       "      <td>female</td>\n",
       "      <td>19.0</td>\n",
       "      <td>0</td>\n",
       "      <td>0</td>\n",
       "      <td>112053</td>\n",
       "      <td>30.000000</td>\n",
       "      <td>S</td>\n",
       "    </tr>\n",
       "    <tr>\n",
       "      <th>888</th>\n",
       "      <td>889</td>\n",
       "      <td>0</td>\n",
       "      <td>3</td>\n",
       "      <td>Johnston, Miss. Catherine Helen \"Carrie\"</td>\n",
       "      <td>female</td>\n",
       "      <td>28.0</td>\n",
       "      <td>1</td>\n",
       "      <td>2</td>\n",
       "      <td>W./C. 6607</td>\n",
       "      <td>23.450001</td>\n",
       "      <td>S</td>\n",
       "    </tr>\n",
       "    <tr>\n",
       "      <th>889</th>\n",
       "      <td>890</td>\n",
       "      <td>1</td>\n",
       "      <td>1</td>\n",
       "      <td>Behr, Mr. Karl Howell</td>\n",
       "      <td>male</td>\n",
       "      <td>26.0</td>\n",
       "      <td>0</td>\n",
       "      <td>0</td>\n",
       "      <td>111369</td>\n",
       "      <td>30.000000</td>\n",
       "      <td>C</td>\n",
       "    </tr>\n",
       "    <tr>\n",
       "      <th>890</th>\n",
       "      <td>891</td>\n",
       "      <td>0</td>\n",
       "      <td>3</td>\n",
       "      <td>Dooley, Mr. Patrick</td>\n",
       "      <td>male</td>\n",
       "      <td>32.0</td>\n",
       "      <td>0</td>\n",
       "      <td>0</td>\n",
       "      <td>370376</td>\n",
       "      <td>7.750000</td>\n",
       "      <td>Q</td>\n",
       "    </tr>\n",
       "  </tbody>\n",
       "</table>\n",
       "<p>891 rows × 11 columns</p>\n",
       "</div>"
      ],
      "text/plain": [
       "     PassengerId Survived Pclass  \\\n",
       "0              1        0      3   \n",
       "1              2        1      1   \n",
       "2              3        1      3   \n",
       "3              4        1      1   \n",
       "4              5        0      3   \n",
       "..           ...      ...    ...   \n",
       "886          887        0      2   \n",
       "887          888        1      1   \n",
       "888          889        0      3   \n",
       "889          890        1      1   \n",
       "890          891        0      3   \n",
       "\n",
       "                                                  Name     Sex   Age  SibSp  \\\n",
       "0                              Braund, Mr. Owen Harris    male  22.0      1   \n",
       "1    Cumings, Mrs. John Bradley (Florence Briggs Th...  female  38.0      1   \n",
       "2                               Heikkinen, Miss. Laina  female  26.0      0   \n",
       "3         Futrelle, Mrs. Jacques Heath (Lily May Peel)  female  35.0      1   \n",
       "4                             Allen, Mr. William Henry    male  35.0      0   \n",
       "..                                                 ...     ...   ...    ...   \n",
       "886                              Montvila, Rev. Juozas    male  27.0      0   \n",
       "887                       Graham, Miss. Margaret Edith  female  19.0      0   \n",
       "888           Johnston, Miss. Catherine Helen \"Carrie\"  female  28.0      1   \n",
       "889                              Behr, Mr. Karl Howell    male  26.0      0   \n",
       "890                                Dooley, Mr. Patrick    male  32.0      0   \n",
       "\n",
       "     Parch            Ticket       Fare Embarked  \n",
       "0        0         A/5 21171   7.250000        S  \n",
       "1        0          PC 17599  71.283302        C  \n",
       "2        0  STON/O2. 3101282   7.925000        S  \n",
       "3        0            113803  53.099998        S  \n",
       "4        0            373450   8.050000        S  \n",
       "..     ...               ...        ...      ...  \n",
       "886      0            211536  13.000000        S  \n",
       "887      0            112053  30.000000        S  \n",
       "888      2        W./C. 6607  23.450001        S  \n",
       "889      0            111369  30.000000        C  \n",
       "890      0            370376   7.750000        Q  \n",
       "\n",
       "[891 rows x 11 columns]"
      ]
     },
     "execution_count": 562,
     "metadata": {},
     "output_type": "execute_result"
    }
   ],
   "source": [
    "df"
   ]
  },
  {
   "cell_type": "markdown",
   "id": "b345c89e-b24b-4389-a758-0fb7a5c6d326",
   "metadata": {},
   "source": [
    "<span style=\"font-size:55px; font-weight:bold\">______________________________________________</span>"
   ]
  },
  {
   "cell_type": "markdown",
   "id": "a88b247a-360a-4b21-8718-5d8fa5ff5d78",
   "metadata": {},
   "source": [
    "<span style=\"font-size:35px; font-weight:bold\">(6) Generate Summary Statistics</span>"
   ]
  },
  {
   "cell_type": "markdown",
   "id": "c33502f6-1872-4c06-baee-5933226611f6",
   "metadata": {},
   "source": [
    "## Survivals (Count & Percentage) "
   ]
  },
  {
   "cell_type": "code",
   "execution_count": 566,
   "id": "675b674e-1a4f-4aa1-8cf6-ece2209789a8",
   "metadata": {},
   "outputs": [
    {
     "name": "stdout",
     "output_type": "stream",
     "text": [
      "              Count  Percentage (%)\n",
      "Survived                           \n",
      "Not Survived    549       61.616162\n",
      "Survived        342       38.383838\n"
     ]
    }
   ],
   "source": [
    "# Count\n",
    "survival_counts = df['Survived'].value_counts()\n",
    "\n",
    "# Percentage\n",
    "survival_percentages = df['Survived'].value_counts(normalize=True) * 100\n",
    "\n",
    "# Combine into one DataFrame\n",
    "survival_summary = pd.DataFrame({\n",
    "    'Count': survival_counts,\n",
    "    'Percentage (%)': survival_percentages\n",
    "})\n",
    "\n",
    "# Rename index for readability\n",
    "survival_summary.index = survival_summary.index.map({0: 'Not Survived', 1: 'Survived'})\n",
    "\n",
    "# Show result\n",
    "print(survival_summary)\n"
   ]
  },
  {
   "cell_type": "markdown",
   "id": "c3a88d5a-f9db-41d7-87b2-971a02114c7d",
   "metadata": {},
   "source": [
    "## Numeric columns"
   ]
  },
  {
   "cell_type": "code",
   "execution_count": 568,
   "id": "d3ca9547-d509-4e3d-96f7-431c1989dfba",
   "metadata": {},
   "outputs": [
    {
     "data": {
      "text/html": [
       "<div>\n",
       "<style scoped>\n",
       "    .dataframe tbody tr th:only-of-type {\n",
       "        vertical-align: middle;\n",
       "    }\n",
       "\n",
       "    .dataframe tbody tr th {\n",
       "        vertical-align: top;\n",
       "    }\n",
       "\n",
       "    .dataframe thead th {\n",
       "        text-align: right;\n",
       "    }\n",
       "</style>\n",
       "<table border=\"1\" class=\"dataframe\">\n",
       "  <thead>\n",
       "    <tr style=\"text-align: right;\">\n",
       "      <th></th>\n",
       "      <th>PassengerId</th>\n",
       "      <th>Age</th>\n",
       "      <th>SibSp</th>\n",
       "      <th>Parch</th>\n",
       "      <th>Fare</th>\n",
       "    </tr>\n",
       "  </thead>\n",
       "  <tbody>\n",
       "    <tr>\n",
       "      <th>count</th>\n",
       "      <td>891.000000</td>\n",
       "      <td>891.000000</td>\n",
       "      <td>891.000000</td>\n",
       "      <td>891.000000</td>\n",
       "      <td>891.000000</td>\n",
       "    </tr>\n",
       "    <tr>\n",
       "      <th>mean</th>\n",
       "      <td>446.000000</td>\n",
       "      <td>29.361582</td>\n",
       "      <td>0.523008</td>\n",
       "      <td>0.381594</td>\n",
       "      <td>32.204208</td>\n",
       "    </tr>\n",
       "    <tr>\n",
       "      <th>std</th>\n",
       "      <td>257.353842</td>\n",
       "      <td>13.019696</td>\n",
       "      <td>1.102743</td>\n",
       "      <td>0.806057</td>\n",
       "      <td>49.693409</td>\n",
       "    </tr>\n",
       "    <tr>\n",
       "      <th>min</th>\n",
       "      <td>1.000000</td>\n",
       "      <td>0.420000</td>\n",
       "      <td>0.000000</td>\n",
       "      <td>0.000000</td>\n",
       "      <td>0.000000</td>\n",
       "    </tr>\n",
       "    <tr>\n",
       "      <th>25%</th>\n",
       "      <td>223.500000</td>\n",
       "      <td>22.000000</td>\n",
       "      <td>0.000000</td>\n",
       "      <td>0.000000</td>\n",
       "      <td>7.910400</td>\n",
       "    </tr>\n",
       "    <tr>\n",
       "      <th>50%</th>\n",
       "      <td>446.000000</td>\n",
       "      <td>28.000000</td>\n",
       "      <td>0.000000</td>\n",
       "      <td>0.000000</td>\n",
       "      <td>14.454200</td>\n",
       "    </tr>\n",
       "    <tr>\n",
       "      <th>75%</th>\n",
       "      <td>668.500000</td>\n",
       "      <td>35.000000</td>\n",
       "      <td>1.000000</td>\n",
       "      <td>0.000000</td>\n",
       "      <td>31.000000</td>\n",
       "    </tr>\n",
       "    <tr>\n",
       "      <th>max</th>\n",
       "      <td>891.000000</td>\n",
       "      <td>80.000000</td>\n",
       "      <td>8.000000</td>\n",
       "      <td>6.000000</td>\n",
       "      <td>512.329224</td>\n",
       "    </tr>\n",
       "  </tbody>\n",
       "</table>\n",
       "</div>"
      ],
      "text/plain": [
       "       PassengerId         Age       SibSp       Parch        Fare\n",
       "count   891.000000  891.000000  891.000000  891.000000  891.000000\n",
       "mean    446.000000   29.361582    0.523008    0.381594   32.204208\n",
       "std     257.353842   13.019696    1.102743    0.806057   49.693409\n",
       "min       1.000000    0.420000    0.000000    0.000000    0.000000\n",
       "25%     223.500000   22.000000    0.000000    0.000000    7.910400\n",
       "50%     446.000000   28.000000    0.000000    0.000000   14.454200\n",
       "75%     668.500000   35.000000    1.000000    0.000000   31.000000\n",
       "max     891.000000   80.000000    8.000000    6.000000  512.329224"
      ]
     },
     "execution_count": 568,
     "metadata": {},
     "output_type": "execute_result"
    }
   ],
   "source": [
    "df.describe()"
   ]
  },
  {
   "cell_type": "markdown",
   "id": "661d996e-95c7-4f42-8c9b-8a8891f7885a",
   "metadata": {},
   "source": [
    "## Categorical columns"
   ]
  },
  {
   "cell_type": "code",
   "execution_count": 570,
   "id": "5d88698b-95af-4c2f-8c58-47fc85f7f8ee",
   "metadata": {},
   "outputs": [
    {
     "name": "stdout",
     "output_type": "stream",
     "text": [
      "        Survived  Pclass   Sex Embarked\n",
      "count        891     891   891      891\n",
      "unique         2       3     2        3\n",
      "top            0       3  male        S\n",
      "freq         549     491   577      646\n"
     ]
    }
   ],
   "source": [
    "print(df.describe(include=['category']))"
   ]
  },
  {
   "cell_type": "code",
   "execution_count": 571,
   "id": "f786ffbd-9b9a-4774-b0a3-7863af457c43",
   "metadata": {},
   "outputs": [
    {
     "data": {
      "text/plain": [
       "Sex\n",
       "male      577\n",
       "female    314\n",
       "Name: count, dtype: int64"
      ]
     },
     "execution_count": 571,
     "metadata": {},
     "output_type": "execute_result"
    }
   ],
   "source": [
    "df['Sex'].value_counts()"
   ]
  },
  {
   "cell_type": "code",
   "execution_count": 572,
   "id": "537e5c1c-4e65-49c6-bafd-ae025876987c",
   "metadata": {},
   "outputs": [
    {
     "data": {
      "text/plain": [
       "Embarked\n",
       "S    646\n",
       "C    168\n",
       "Q     77\n",
       "Name: count, dtype: int64"
      ]
     },
     "execution_count": 572,
     "metadata": {},
     "output_type": "execute_result"
    }
   ],
   "source": [
    "df['Embarked'].value_counts()"
   ]
  },
  {
   "cell_type": "markdown",
   "id": "fc10e450-dafb-4619-ae53-4a46c0aa24b7",
   "metadata": {},
   "source": [
    "## All Types"
   ]
  },
  {
   "cell_type": "code",
   "execution_count": 592,
   "id": "69c8dbd7-178a-4e3c-b81f-d863663c03f6",
   "metadata": {},
   "outputs": [
    {
     "name": "stdout",
     "output_type": "stream",
     "text": [
      "        PassengerId  Survived  Pclass                     Name   Sex  \\\n",
      "count    891.000000     891.0   891.0                      891   891   \n",
      "unique          NaN       2.0     3.0                      891     2   \n",
      "top             NaN       0.0     3.0  Braund, Mr. Owen Harris  male   \n",
      "freq            NaN     549.0   491.0                        1   577   \n",
      "mean     446.000000       NaN     NaN                      NaN   NaN   \n",
      "std      257.353842       NaN     NaN                      NaN   NaN   \n",
      "min        1.000000       NaN     NaN                      NaN   NaN   \n",
      "25%      223.500000       NaN     NaN                      NaN   NaN   \n",
      "50%      446.000000       NaN     NaN                      NaN   NaN   \n",
      "75%      668.500000       NaN     NaN                      NaN   NaN   \n",
      "max      891.000000       NaN     NaN                      NaN   NaN   \n",
      "\n",
      "               Age       SibSp       Parch  Ticket        Fare Embarked  \n",
      "count   891.000000  891.000000  891.000000     891  891.000000      891  \n",
      "unique         NaN         NaN         NaN     681         NaN        3  \n",
      "top            NaN         NaN         NaN  347082         NaN        S  \n",
      "freq           NaN         NaN         NaN       7         NaN      646  \n",
      "mean     29.361582    0.523008    0.381594     NaN   32.204208      NaN  \n",
      "std      13.019696    1.102743    0.806057     NaN   49.693409      NaN  \n",
      "min       0.420000    0.000000    0.000000     NaN    0.000000      NaN  \n",
      "25%      22.000000    0.000000    0.000000     NaN    7.910400      NaN  \n",
      "50%      28.000000    0.000000    0.000000     NaN   14.454200      NaN  \n",
      "75%      35.000000    1.000000    0.000000     NaN   31.000000      NaN  \n",
      "max      80.000000    8.000000    6.000000     NaN  512.329224      NaN  \n"
     ]
    }
   ],
   "source": [
    "print(df.describe(include='all'))\n"
   ]
  },
  {
   "cell_type": "markdown",
   "id": "ada4077b-97ae-4c01-a618-bf19175bf68f",
   "metadata": {},
   "source": [
    "<span style=\"font-size:55px; font-weight:bold\">______________________________________________</span>"
   ]
  },
  {
   "cell_type": "markdown",
   "id": "d9d6036e-19ee-4851-bf68-19aa464c51c0",
   "metadata": {},
   "source": [
    "<span style=\"font-size:35px; font-weight:bold\">(6) Grouped Insights</span>"
   ]
  },
  {
   "cell_type": "markdown",
   "id": "48c87702-0ad8-4f22-b932-6c4ceb3f3e54",
   "metadata": {},
   "source": [
    "## Survival by Gender (Counts)"
   ]
  },
  {
   "cell_type": "code",
   "execution_count": 596,
   "id": "71ee608f-5dae-4625-8bb8-54aa62171cb1",
   "metadata": {},
   "outputs": [
    {
     "name": "stdout",
     "output_type": "stream",
     "text": [
      "Survived    0    1\n",
      "Sex               \n",
      "female     81  233\n",
      "male      468  109\n"
     ]
    }
   ],
   "source": [
    "print(df.groupby('Sex', observed=True)['Survived'].value_counts(normalize=False).unstack())"
   ]
  },
  {
   "cell_type": "markdown",
   "id": "7b8909a8-9dbe-494a-a602-3f8df7954c50",
   "metadata": {},
   "source": [
    "## Survival by Gender (Percentage)"
   ]
  },
  {
   "cell_type": "code",
   "execution_count": 598,
   "id": "636d4070-7573-4f45-8be3-1961f76503fa",
   "metadata": {},
   "outputs": [
    {
     "name": "stdout",
     "output_type": "stream",
     "text": [
      "Survived         0         1\n",
      "Sex                         \n",
      "female    0.257962  0.742038\n",
      "male      0.811092  0.188908\n"
     ]
    }
   ],
   "source": [
    "print(df.groupby('Sex', observed=True)['Survived'].value_counts(normalize=True).unstack())"
   ]
  },
  {
   "cell_type": "markdown",
   "id": "4abba439-59e3-46d6-a3d3-dca4453ef2c3",
   "metadata": {},
   "source": [
    "## Survival by Passenger Class (Counts)"
   ]
  },
  {
   "cell_type": "code",
   "execution_count": 600,
   "id": "ef7af904-4cfb-4d30-b213-d1d47e912354",
   "metadata": {},
   "outputs": [
    {
     "name": "stdout",
     "output_type": "stream",
     "text": [
      "Survived    0    1\n",
      "Pclass            \n",
      "1          80  136\n",
      "2          97   87\n",
      "3         372  119\n"
     ]
    }
   ],
   "source": [
    "print(df.groupby('Pclass', observed=True)['Survived'].value_counts(normalize=False).unstack())"
   ]
  },
  {
   "cell_type": "markdown",
   "id": "2d1bf05a-06e8-4b7a-9305-1a81d57d1cd2",
   "metadata": {},
   "source": [
    "## Survival by Passenger Class (Percentage)"
   ]
  },
  {
   "cell_type": "code",
   "execution_count": 602,
   "id": "44ca1f86-be44-4253-821d-eb1b52f0a3ae",
   "metadata": {},
   "outputs": [
    {
     "name": "stdout",
     "output_type": "stream",
     "text": [
      "Survived         0         1\n",
      "Pclass                      \n",
      "1         0.370370  0.629630\n",
      "2         0.527174  0.472826\n",
      "3         0.757637  0.242363\n"
     ]
    }
   ],
   "source": [
    "print(df.groupby('Pclass', observed=True)['Survived'].value_counts(normalize=True).unstack())"
   ]
  },
  {
   "cell_type": "markdown",
   "id": "4b94f0fa-2857-46ef-b6cc-bf5375760707",
   "metadata": {},
   "source": [
    "## Survival by Embarkation Point (Counts)"
   ]
  },
  {
   "cell_type": "code",
   "execution_count": 604,
   "id": "b7e2065a-5ab7-48ba-a2d3-bc0775d78343",
   "metadata": {},
   "outputs": [
    {
     "name": "stdout",
     "output_type": "stream",
     "text": [
      "Survived    0    1\n",
      "Embarked          \n",
      "C          75   93\n",
      "Q          47   30\n",
      "S         427  219\n"
     ]
    }
   ],
   "source": [
    "print(df.groupby('Embarked', observed=True)['Survived'].value_counts(normalize=False).unstack())"
   ]
  },
  {
   "cell_type": "markdown",
   "id": "de219ae0-ff80-4eaa-aabf-e0af122e0ede",
   "metadata": {},
   "source": [
    "## Survival by Embarkation Point (Percentage)"
   ]
  },
  {
   "cell_type": "code",
   "execution_count": 606,
   "id": "a9ebb6e1-3d51-4bb0-b53f-25386bf75507",
   "metadata": {},
   "outputs": [
    {
     "name": "stdout",
     "output_type": "stream",
     "text": [
      "Survived         0         1\n",
      "Embarked                    \n",
      "C         0.446429  0.553571\n",
      "Q         0.610390  0.389610\n",
      "S         0.660991  0.339009\n"
     ]
    }
   ],
   "source": [
    "print(df.groupby('Embarked', observed=True)['Survived'].value_counts(normalize=True).unstack())"
   ]
  },
  {
   "cell_type": "markdown",
   "id": "ff4a2ade-aaee-45c2-b53f-1d5b1da7a181",
   "metadata": {},
   "source": [
    "## Survival by Age group (Counts)"
   ]
  },
  {
   "cell_type": "code",
   "execution_count": 669,
   "id": "512f519e-5ad4-4a9a-b49e-37a7662c1df2",
   "metadata": {},
   "outputs": [
    {
     "name": "stdout",
     "output_type": "stream",
     "text": [
      "Survived       0    1\n",
      "AgeGroup             \n",
      "Child         29   40\n",
      "Teen          40   30\n",
      "Young Adult  346  189\n",
      "Adult        117   78\n",
      "Senior        17    5\n"
     ]
    }
   ],
   "source": [
    "df['AgeGroup'] = pd.cut(df['Age'], bins=[0,12,18,35,60,100], labels=['Child','Teen','Young Adult','Adult','Senior'])\n",
    "print(df.groupby('AgeGroup', observed=True)['Survived'].value_counts(normalize=False).unstack())"
   ]
  },
  {
   "cell_type": "markdown",
   "id": "fa017117-f301-430c-bea8-421b0365bd5f",
   "metadata": {},
   "source": [
    "## Survival by Age group (Percentage)"
   ]
  },
  {
   "cell_type": "code",
   "execution_count": 667,
   "id": "dc605e85-8a42-464c-9d8f-5759205d6a27",
   "metadata": {},
   "outputs": [
    {
     "name": "stdout",
     "output_type": "stream",
     "text": [
      "Survived            0         1\n",
      "AgeGroup                       \n",
      "Child        0.420290  0.579710\n",
      "Teen         0.571429  0.428571\n",
      "Young Adult  0.646729  0.353271\n",
      "Adult        0.600000  0.400000\n",
      "Senior       0.772727  0.227273\n"
     ]
    }
   ],
   "source": [
    "df['AgeGroup'] = pd.cut(df['Age'], bins=[0,12,18,35,60,100], labels=['Child','Teen','Young Adult','Adult','Senior'])\n",
    "print(df.groupby('AgeGroup', observed=True)['Survived'].value_counts(normalize=True).unstack())"
   ]
  },
  {
   "cell_type": "markdown",
   "id": "97c6fdfa-87d9-4784-bd71-4fd62e9627b7",
   "metadata": {},
   "source": [
    "<span style=\"font-size:55px; font-weight:bold\">______________________________________________</span>"
   ]
  },
  {
   "cell_type": "markdown",
   "id": "a4d2377b-8116-49ee-8fe4-dfc2f8cd8838",
   "metadata": {},
   "source": [
    "<span style=\"font-size:35px; font-weight:bold\">(7) Data Visualization</span>"
   ]
  },
  {
   "cell_type": "markdown",
   "id": "65740828-0245-49f4-a7c6-f655dab1ba9a",
   "metadata": {},
   "source": [
    "## 1. Bar Plot — Survival by Sex"
   ]
  },
  {
   "cell_type": "code",
   "execution_count": 651,
   "id": "b5d8f222-d8af-4c49-85b4-974319545d8f",
   "metadata": {},
   "outputs": [
    {
     "data": {
      "image/png": "[encoded data removed]",
      "text/plain": [
       "<Figure size 640x480 with 1 Axes>"
      ]
     },
     "metadata": {},
     "output_type": "display_data"
    }
   ],
   "source": [
    "sns.barplot(data=df, x='Sex', y='Survived')\n",
    "plt.title('Survival Rate by Sex', fontsize=18, fontweight='bold', style='italic')\n",
    "plt.ylabel('Survival Rate', fontsize=15, fontweight='bold')\n",
    "plt.xlabel('Sex', fontsize=15, fontweight='bold')\n",
    "plt.show()\n"
   ]
  },
  {
   "cell_type": "markdown",
   "id": "0ac566a5-b0b2-4817-8783-1486576ab504",
   "metadata": {},
   "source": [
    "## 2. Bar Plot — Survival by Passenger Class"
   ]
  },
  {
   "cell_type": "code",
   "execution_count": 653,
   "id": "17951ace-c371-443e-9156-89ae941b1a3e",
   "metadata": {},
   "outputs": [
    {
     "data": {
      "image/png": "[encoded data removed]",
      "text/plain": [
       "<Figure size 640x480 with 1 Axes>"
      ]
     },
     "metadata": {},
     "output_type": "display_data"
    }
   ],
   "source": [
    "sns.barplot(x='Pclass', y='Survived', data=df)\n",
    "plt.title('Survival Rate by Passenger Class', fontsize=18, fontweight='bold', style='italic')\n",
    "plt.ylabel('Survival Rate', fontsize=15, fontweight='bold')\n",
    "plt.xlabel('Passenger Class', fontsize=15, fontweight='bold')\n",
    "plt.show()\n"
   ]
  },
  {
   "cell_type": "markdown",
   "id": "e3242868-1e10-4181-a2fb-748cd930d133",
   "metadata": {},
   "source": [
    "## 3. Bar Plot — Survival by Age Group"
   ]
  },
  {
   "cell_type": "code",
   "execution_count": 655,
   "id": "2c7c5108-02f3-42af-83d8-513f2cf92d51",
   "metadata": {},
   "outputs": [
    {
     "data": {
      "image/png": "[encoded data removed]",
      "text/plain": [
       "<Figure size 640x480 with 1 Axes>"
      ]
     },
     "metadata": {},
     "output_type": "display_data"
    }
   ],
   "source": [
    "# Define age groups\n",
    "df['AgeGroup'] = pd.cut(\n",
    "    df['Age'],\n",
    "    bins=[0, 12, 18, 35, 60, 100],\n",
    "    labels=['Child', 'Teen', 'Young Adult', 'Adult', 'Senior']\n",
    ")\n",
    "\n",
    "# Calculate total survivors per age group\n",
    "survivor_counts = df[df['Survived'] == 1]['AgeGroup'].value_counts().reindex(['Child', 'Teen', 'Young Adult', 'Adult', 'Senior'])\n",
    "\n",
    "# Plot barplot: total survivors by age group\n",
    "sns.barplot(\n",
    "    data=df,\n",
    "    x='AgeGroup',\n",
    "    y='Survived',\n",
    "    estimator='sum',\n",
    "    order=['Child', 'Teen', 'Young Adult', 'Adult', 'Senior']\n",
    ")\n",
    "\n",
    "plt.title('Total Survivors by Age Group', fontsize=18, fontweight='bold', style='italic')\n",
    "plt.ylabel('Number of Survivors', fontsize=15, fontweight='bold')\n",
    "plt.xlabel('Age Group', fontsize=15, fontweight='bold')\n",
    "\n",
    "# Add survivor counts as text below each bar\n",
    "for i, count in enumerate(survivor_counts):\n",
    "    plt.text(i, count + 22, f'{int(count)}', ha='center', va='bottom', fontweight='bold')\n",
    "\n",
    "plt.tight_layout()\n",
    "plt.show()"
   ]
  },
  {
   "cell_type": "markdown",
   "id": "40c4dd69-ef94-4c74-bc9e-620f8d5cb5c1",
   "metadata": {},
   "source": [
    "## 4. Bar Plot — Survival by Embarkation Point"
   ]
  },
  {
   "cell_type": "code",
   "execution_count": 657,
   "id": "0fb0cd29-d58c-4285-8143-7c9df7ebd4ee",
   "metadata": {},
   "outputs": [
    {
     "data": {
      "image/png": "[encoded data removed]",
      "text/plain": [
       "<Figure size 640x480 with 1 Axes>"
      ]
     },
     "metadata": {},
     "output_type": "display_data"
    }
   ],
   "source": [
    "sns.barplot(data=df, x='Embarked', y='Survived')\n",
    "plt.title('Survival Rate by Embarkation Point', fontsize=18, fontweight='bold', style='italic')\n",
    "plt.ylabel('Survival Rate', fontsize=15, fontweight='bold')\n",
    "plt.xlabel('Embarkation Point', fontsize=15, fontweight='bold')\n",
    "plt.show()"
   ]
  },
  {
   "cell_type": "markdown",
   "id": "bc80c485-ff4a-431f-8510-f167dc1942e6",
   "metadata": {},
   "source": [
    "## 5. Histogram Plot - Age Distribution with Survival"
   ]
  },
  {
   "cell_type": "code",
   "execution_count": 659,
   "id": "de6e56de-3bf3-43fe-925d-917dc375b31c",
   "metadata": {},
   "outputs": [
    {
     "data": {
      "image/png": "[encoded data removed]",
      "text/plain": [
       "<Figure size 640x480 with 1 Axes>"
      ]
     },
     "metadata": {},
     "output_type": "display_data"
    }
   ],
   "source": [
    "# Set a cleaner style\n",
    "sns.set(style=\"whitegrid\")\n",
    "\n",
    "# Create histogram showing age distribution by survival status\n",
    "sns.histplot(\n",
    "    data=df,\n",
    "    x='Age',\n",
    "    hue='Survived',\n",
    "    kde=True,\n",
    "    bins=30,\n",
    "    palette={0: 'red', 1: 'green'} \n",
    ")\n",
    "\n",
    "plt.title('Age Distribution by Survival', fontsize=18, fontweight='bold', style='italic')\n",
    "plt.xlabel('Age', fontsize=15, fontweight='bold')\n",
    "plt.ylabel('Number of Passengers', fontsize=15, fontweight='bold')\n",
    "\n",
    "plt.show()"
   ]
  },
  {
   "cell_type": "markdown",
   "id": "eb1595fb-513f-4a50-b789-b14f52961ff6",
   "metadata": {},
   "source": [
    "## 6. Heatmap — Correlation Matrix (numeric columns) (Bonus)"
   ]
  },
  {
   "cell_type": "code",
   "execution_count": 661,
   "id": "4d8358f0-5c25-4a1f-a075-72464ed97ba6",
   "metadata": {},
   "outputs": [
    {
     "data": {
      "image/png": "[encoded data removed]",
      "text/plain": [
       "<Figure size 1000x600 with 2 Axes>"
      ]
     },
     "metadata": {},
     "output_type": "display_data"
    }
   ],
   "source": [
    "# Select all numeric columns (int, float, etc.)\n",
    "numeric_df = df.select_dtypes(include=['number'])\n",
    "\n",
    "# Plot correlation heatmap\n",
    "plt.figure(figsize=(10, 6))\n",
    "sns.heatmap(numeric_df.corr(), annot=True, cmap='coolwarm')\n",
    "plt.title(\"Correlation Matrix\", fontsize=18, fontweight='bold', style='italic')\n",
    "plt.show()\n"
   ]
  },
  {
   "cell_type": "markdown",
   "id": "bdc1ba45-9511-4150-9710-ecfbfd882258",
   "metadata": {},
   "source": [
    "## 7. Bar Plot — Survival by Sex and Class (Bonus)"
   ]
  },
  {
   "cell_type": "code",
   "execution_count": 663,
   "id": "bca84e1d-1946-4f9e-aafb-57830124d359",
   "metadata": {},
   "outputs": [
    {
     "data": {
      "image/png": "[encoded data removed]",
      "text/plain": [
       "<Figure size 640x480 with 1 Axes>"
      ]
     },
     "metadata": {},
     "output_type": "display_data"
    }
   ],
   "source": [
    "# Plot survival rate by Passenger Class and Gender\n",
    "sns.barplot(\n",
    "    data=df,\n",
    "    x='Pclass',             # Passenger Class on the x-axis\n",
    "    y='Survived',           # Survival rate (0 or 1) on the y-axis\n",
    "    hue='Sex'               # Separate bars for Male and Female\n",
    ")\n",
    "\n",
    "# Add a styled title\n",
    "plt.title(\n",
    "    'Survival by Gender and Class',\n",
    "    fontsize=18,\n",
    "    fontweight='bold',\n",
    "    style='italic'\n",
    ")\n",
    "\n",
    "# Label the axes\n",
    "plt.xlabel('Passenger Class', fontsize=15, fontweight='bold')\n",
    "plt.ylabel('Survival Rate', fontsize=15, fontweight='bold')\n",
    "\n",
    "# Show the plot\n",
    "plt.tight_layout()\n",
    "plt.show()\n"
   ]
  },
  {
   "cell_type": "markdown",
   "id": "6858963f-3a04-4b88-8381-08fa1895d6bc",
   "metadata": {},
   "source": [
    "## 8. Heatmap – Survival by Sex and Class (Bonus)"
   ]
  },
  {
   "cell_type": "code",
   "execution_count": 665,
   "id": "900d42cc-8b87-4ace-89f5-8ec4b169c121",
   "metadata": {},
   "outputs": [
    {
     "data": {
      "image/png": "[encoded data removed]",
      "text/plain": [
       "<Figure size 640x480 with 2 Axes>"
      ]
     },
     "metadata": {},
     "output_type": "display_data"
    }
   ],
   "source": [
    "# Ensure 'Survived' is numeric\n",
    "df['Survived'] = pd.to_numeric(df['Survived'], errors='coerce')\n",
    "\n",
    "pivot = df.pivot_table(\n",
    "    index='Sex',\n",
    "    columns='Pclass',\n",
    "    values='Survived',\n",
    "    aggfunc='mean',\n",
    "    observed=True \n",
    ")\n",
    "\n",
    "sns.heatmap(pivot, annot=True, cmap='coolwarm')\n",
    "plt.title(\"Survival Rate by Sex and Class\", fontsize=18, fontweight='bold', style='italic')\n",
    "plt.show()\n"
   ]
  }
 ],
 "metadata": {
  "kernelspec": {
   "display_name": "Python 3 (ipykernel)",
   "language": "python",
   "name": "python3"
  },
  "language_info": {
   "codemirror_mode": {
    "name": "ipython",
    "version": 3
   },
   "file_extension": ".py",
   "mimetype": "text/x-python",
   "name": "python",
   "nbconvert_exporter": "python",
   "pygments_lexer": "ipython3",
   "version": "3.12.3"
  }
 },
 "nbformat": 4,
 "nbformat_minor": 5
}
